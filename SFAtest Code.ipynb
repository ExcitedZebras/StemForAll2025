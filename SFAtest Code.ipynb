{
 "cells": [
  {
   "cell_type": "code",
   "execution_count": null,
   "id": "18ee1846",
   "metadata": {},
   "outputs": [
    {
     "name": "stdout",
     "output_type": "stream",
     "text": [
      "Status Code: 200\n",
      "Content-Type: text/html; charset=utf-8\n",
      "First 500 characters of content:\n",
      " Your query was too short or too long.\n",
      "\n"
     ]
    }
   ],
   "source": [
    "import requests\n",
    "import pandas as pd\n",
    "from newspaper import Article\n",
    "from tqdm import tqdm  # progress bar for nicer output"
   ]
  },
  {
   "cell_type": "code",
   "execution_count": null,
   "id": "48f9130f",
   "metadata": {},
   "outputs": [
    {
     "name": "stdout",
     "output_type": "stream",
     "text": [
      "                                                 title  \\\n",
      "1    From Cell to System , Explore New Insights in ...   \n",
      "2    Expo Contratista Names QXO as Exhibitor at 202...   \n",
      "4    Natrona County Arrest Log ( 07 / 25 / 25 – 07 ...   \n",
      "6    Vinitaly . USA , the Largest Italian Wine Even...   \n",
      "7    Werba Rubin Papier Wealth Management Has $9 . ...   \n",
      "..                                                 ...   \n",
      "236   Flexible Work Benefits All Women , Not Just Moms   \n",
      "238  Salmonella Outbreak Leads To Deepbrand Bean Pr...   \n",
      "240      Lazy River in Iowa Ranked Top 3 in the Nation   \n",
      "243  NAMI Rome to present special program Thursday ...   \n",
      "248          Streaming Stocks To Watch Now – July 26th   \n",
      "\n",
      "                                                   url          seendate  \\\n",
      "1    https://www.newswise.com/articles/from-cell-to...  20250728T190000Z   \n",
      "2    http://www.hawaiitelegraph.com/news/278473065/...  20250728T190000Z   \n",
      "4    https://mycountry955.com/ixp/101/p/natrona-cou...  20250728T190000Z   \n",
      "6    http://www.prnewswire.com/news-releases/vinita...  20250728T190000Z   \n",
      "7    https://www.dailypolitical.com/2025/07/28/werb...  20250728T190000Z   \n",
      "..                                                 ...               ...   \n",
      "236  https://www.miragenews.com/flexible-work-benef...  20250728T181500Z   \n",
      "238  https://mix108.com/ixp/150/p/salmonella-outbre...  20250728T181500Z   \n",
      "240  https://mix108.com/iowa-lost-island-best-lazy-...  20250728T181500Z   \n",
      "243  https://www.1049therebel.com/2025/07/28/nami-r...  20250728T181500Z   \n",
      "248  https://www.themarketsdaily.com/2025/07/28/str...  20250728T181500Z   \n",
      "\n",
      "     sourcecountry  \n",
      "1    United States  \n",
      "2    United States  \n",
      "4    United States  \n",
      "6    United States  \n",
      "7    United States  \n",
      "..             ...  \n",
      "236  United States  \n",
      "238  United States  \n",
      "240  United States  \n",
      "243  United States  \n",
      "248  United States  \n",
      "\n",
      "[92 rows x 4 columns]\n",
      "Saved to gdelt_us_articles.csv ✅\n"
     ]
    }
   ],
   "source": [
    "# GDELT Doc API endpoint\n",
    "url = \"https://api.gdeltproject.org/api/v2/doc/doc\"\n",
    "params = {\n",
    "    \"query\": \"united states\",\n",
    "    \"mode\": \"artlist\",\n",
    "    \"maxrecords\": 250,  # slightly higher in case non-US articles are included\n",
    "    \"format\": \"json\",\n",
    "    \"sort\": \"datedesc\",\n",
    "    \"sourcecountry\": \"US\"\n",
    "}\n",
    "\n",
    "response = requests.get(url, params=params)\n",
    "\n",
    "if response.status_code != 200:\n",
    "    print(\"Error:\", response.status_code)\n",
    "    print(response.text)\n",
    "else:\n",
    "    data = response.json()\n",
    "    articles = data.get(\"articles\", [])\n",
    "    \n",
    "    # Convert to DataFrame\n",
    "    df = pd.DataFrame(articles)\n",
    "\n",
    "    # Filter only rows where sourcecountry is \"United States\"\n",
    "    df_us = df[df[\"sourcecountry\"] == \"United States\"].head(100)\n",
    "\n",
    "    # Show selected columns\n",
    "    print(df_us[[\"title\", \"url\", \"seendate\", \"sourcecountry\"]])\n",
    "\n",
    "    # Save to CSV\n",
    "    df_us.to_csv(\"gdelt_us_articles.csv\", index=False)\n",
    "    print(\"Saved to gdelt_us_articles.csv ✅\")\n"
   ]
  },
  {
   "cell_type": "code",
   "execution_count": null,
   "id": "1d84d9fb",
   "metadata": {},
   "outputs": [
    {
     "name": "stdout",
     "output_type": "stream",
     "text": [
      "Trump says he wants Netanyahu to ‘make sure they get the food’ in Gaza amid humanitarian crisis\n",
      "By MICHELLE L. PRICE\n",
      "\n",
      "WASHINGTON (AP) — President Donald Trump on Monday expressed concern over the worsening humanitarian situation in Gaza and urged Israel to get people food, seemingly recalibrating his stance on Gaza as images of emaciated children have sparked renewed worries about hunger in the war-torn territory.\n",
      "\n",
      "Trump, speaking in Scotland on Monday, said the U.S. and other nations are giving money and food to Gaza but that Israeli Prime Minister Benjamin Netanyahu has “got to sort of like run it.”\n",
      "\n",
      "“I want him to make sure they get the food,” Trump said. “I want to make sure they get the food.”\n",
      "\n",
      "Trump’s comments seemed to result from the images in recent days of the worsening hunger crisis in Gaza and were more urgent than the resigned message he had about the 21-month Israel-Hamas war last week, when ceasefire talks derailed. His remarks Monday also marked a new divergence from Netanyahu after the two leaders had become closer following their nations’ join strikes in Iran.\n",
      "\n",
      "The U.S. president was asked if he agreed with Netanyahu’s comments on Sunday in which the Israeli leader said, “There is no policy of starvation in Gaza and there is no starvation in Gaza.”\n",
      "\n",
      "“I don’t know,” Trump replied Monday. “I mean, based on television, I would say not particularly because those children look very hungry.”\n",
      "\n",
      "Trump says US will set up food centers in Gaza\n",
      "\n",
      "In the face of mounting international criticism, the Israeli military over the weekend began airdrops of aid, along with limited pauses in fighting in three populated areas of Gaza for 10 hours a day to help with the distribution.\n",
      "\n",
      "Trump on Friday had expressed some resignation about the situation in Gaza after the U.S. and Israel pulled their negotiating teams out of talks in Qatar to try to reach a ceasefire. Trump said last week that Hamas was likely “going to be hunted down” and said of Israel, “They’re going to have to fight and they’re going to have to clean it up.”\n",
      "\n",
      "Hamas has been designated as a terrorist organization by the United States, Canada and the European Union.\n",
      "\n",
      "But Trump seemed more inclined to action on Monday after reports of starvation-related deaths and images of people, especially young children and infants, struggling to get food continued to emerge over the weekend, drew international outcry.\n",
      "\n",
      "The U.S. president, speaking as he visited with British Prime Minister Keir Starmer at his Trump’s Turnberry golf course, said that the U.S. was “going to set up food centers,” but he didn’t offer specifics.\n",
      "\n",
      "The White House did not immediately have more information about the food centers.\n",
      "\n",
      "International outcry grows louder\n",
      "\n",
      "While Trump urged Netanyahu to do more to deliver aid, the U.S. leader faced similar pleas.\n",
      "\n",
      "Egyptian President Abdel Fattah el-Sissi said in a televised address on Monday that Trump is “the one who is able to stop the war, deliver the aid and end this suffering.”\n",
      "\n",
      "“Please, make every effort to stop this war and deliver the aid,” el-Sissi said, addressing Trump in his remarks “I believe that it’s time to end this war.”\n",
      "\n",
      "Trump said Hamas has stolen food and aid trying to reach people in Gaza, but when asked by a reporter about what responsibility Israel has for limiting aid to the area, he said, “Israel has a lot of responsibility.”\n",
      "\n",
      "But he quickly said Israel was also hampered in its actions as it seeks to keep the remaining 20 hostages kept in Gaza alive.\n",
      "\n",
      "When asked by what more can Israel do, Trump said, “I think Israel can do a lot.” But he didn’t offer more details and changed the subject to Iran.\n",
      "\n",
      "“We have to help on a humanitarian basis before we do anything. We have to get the kids fed.”\n",
      "\n",
      "Starmer was more adamant than Trump, calling it “a desperate situation” in Gaza.\n",
      "\n",
      "“I think people in Britain are revolted at seeing what they are seeing on their screens,” he said.\n",
      "\n",
      "Vice President JD Vance echoed Trump’s comments as he spoke Monday in Canton, Ohio and said the U.S. was worried about the humanitarian problem in Gaza and seeing “a lot of starving children.”\n",
      "\n",
      "“Israel’s got to do more to let that aid in and we’ve also got to wage war on Hamas so that those folks stop preventing food from coming into this territory,” he said.\n",
      "\n",
      "US and UK leaders discuss Gaza as UN discusses Israel-Palestinian two-state solution\n",
      "\n",
      "Starmer, who faces pressure from his Labour Party to recognize a Palestinian state as France did last week, said the U.K. supports statehood for the Palestinians but it must be part of a plan for a two-state solution.\n",
      "\n",
      "Trump said last week that France’s recognition of a Palestinian state “doesn’t carry any weight.”\n",
      "\n",
      "“I’m not going to take a position,” Trump said Monday of recognizing a Palestinian state. He added of Starmer, “I don’t mind him taking a position.”\n",
      "\n",
      "The comments came as the U.N. General Assembly on Monday brought together high-level officials to promote a two-state solution to the decades-old Israel-Palestinian conflict.\n",
      "\n",
      "Israel and the U.S. are boycotting the two-day meeting.\n",
      "\n",
      "Associated Press writers Will Weissert in Edinburgh, Scotland, Tia Goldenberg in Tel Aviv, Israel and Julie Carr Smyth in Canton, Ohio contributed to this report.\n"
     ]
    }
   ],
   "source": [
    "url = \"https://www.sbsun.com/2025/07/28/trump-gaza-food/\"\n",
    "article = Article(url)\n",
    "article.download()\n",
    "article.parse()\n",
    "\n",
    "print(article.title)\n",
    "print(article.text)"
   ]
  },
  {
   "cell_type": "code",
   "execution_count": null,
   "id": "701c13b3",
   "metadata": {},
   "outputs": [
    {
     "name": "stdout",
     "output_type": "stream",
     "text": [
      "Extracting article content for each URL... This may take some time.\n"
     ]
    },
    {
     "name": "stderr",
     "output_type": "stream",
     "text": [
      "100%|██████████| 92/92 [00:48<00:00,  1.89it/s]"
     ]
    },
    {
     "name": "stdout",
     "output_type": "stream",
     "text": [
      "Saved articles with content to gdelt_us_articles_with_content.csv\n"
     ]
    },
    {
     "name": "stderr",
     "output_type": "stream",
     "text": [
      "\n"
     ]
    }
   ],
   "source": [
    "# Step 1: Query GDELT Doc API for recent US articles\n",
    "url = \"https://api.gdeltproject.org/api/v2/doc/doc\"\n",
    "params = {\n",
    "    \"query\": \"united states\",\n",
    "    \"mode\": \"artlist\",\n",
    "    \"maxrecords\": 250,\n",
    "    \"format\": \"json\",\n",
    "    \"sort\": \"datedesc\",\n",
    "    \"sourcecountry\": \"US\"\n",
    "}\n",
    "\n",
    "response = requests.get(url, params=params)\n",
    "if response.status_code != 200:\n",
    "    print(\"Error:\", response.status_code)\n",
    "    print(response.text)\n",
    "    exit()\n",
    "\n",
    "data = response.json()\n",
    "articles = data.get(\"articles\", [])\n",
    "\n",
    "# Step 2: Convert to DataFrame\n",
    "df = pd.DataFrame(articles)\n",
    "\n",
    "# Filter only \"United States\" sourcecountry and limit to 100 articles\n",
    "df_us = df[df[\"sourcecountry\"] == \"United States\"].head(100)\n",
    "\n",
    "# Step 3: Extract article content using newspaper3k\n",
    "def extract_content(article_url):\n",
    "    try:\n",
    "        article = Article(article_url)\n",
    "        article.download()\n",
    "        article.parse()\n",
    "        return article.text\n",
    "    except Exception as e:\n",
    "        return None  # or you can return str(e) to debug failures\n",
    "\n",
    "print(\"Extracting article content for each URL... This may take some time.\")\n",
    "df_us[\"content\"] = [extract_content(url) for url in tqdm(df_us[\"url\"])]\n",
    "\n",
    "# Optional: Drop articles with no content\n",
    "df_us = df_us.dropna(subset=[\"content\"])\n",
    "\n",
    "# Step 4: Save to CSV\n",
    "df_us.to_csv(\"gdelt_us_articles_with_content.csv\", index=False)\n",
    "print(\"Saved articles with content to gdelt_us_articles_with_content.csv\")\n"
   ]
  }
 ],
 "metadata": {
  "kernelspec": {
   "display_name": ".venv",
   "language": "python",
   "name": "python3"
  },
  "language_info": {
   "codemirror_mode": {
    "name": "ipython",
    "version": 3
   },
   "file_extension": ".py",
   "mimetype": "text/x-python",
   "name": "python",
   "nbconvert_exporter": "python",
   "pygments_lexer": "ipython3",
   "version": "3.13.5"
  }
 },
 "nbformat": 4,
 "nbformat_minor": 5
}
